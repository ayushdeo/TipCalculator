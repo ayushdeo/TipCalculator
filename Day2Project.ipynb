{
 "cells": [
  {
   "cell_type": "code",
   "execution_count": 2,
   "id": "9a238ff1",
   "metadata": {},
   "outputs": [
    {
     "name": "stdout",
     "output_type": "stream",
     "text": [
      "Welcome to your tip calculator!\n",
      "What was the total bill?\n",
      "\n",
      "124.56\n",
      "Tip %: 10,12,15?\n",
      "\n",
      "12\n",
      "How many people will be splitting the bill?\n",
      "\n",
      "7\n",
      "19.93\n"
     ]
    }
   ],
   "source": [
    "print('Welcome to your tip calculator!')\n",
    "print('What was the total bill?\\n')\n",
    "bill=float(input())\n",
    "print('Tip %: 10,12,15?\\n')\n",
    "tip=int(input())\n",
    "float_tip=float(tip)\n",
    "print('How many people will be splitting the bill?\\n')\n",
    "split=int(input())\n",
    "float_split=float(split)\n",
    "Total_Bill= round(float((bill+((float_tip/100) * bill))/float_split),2)\n",
    "\n",
    "print(Total_Bill)"
   ]
  },
  {
   "cell_type": "code",
   "execution_count": null,
   "id": "fd25ede2",
   "metadata": {},
   "outputs": [],
   "source": []
  }
 ],
 "metadata": {
  "kernelspec": {
   "display_name": "Python 3 (ipykernel)",
   "language": "python",
   "name": "python3"
  },
  "language_info": {
   "codemirror_mode": {
    "name": "ipython",
    "version": 3
   },
   "file_extension": ".py",
   "mimetype": "text/x-python",
   "name": "python",
   "nbconvert_exporter": "python",
   "pygments_lexer": "ipython3",
   "version": "3.11.5"
  }
 },
 "nbformat": 4,
 "nbformat_minor": 5
}
